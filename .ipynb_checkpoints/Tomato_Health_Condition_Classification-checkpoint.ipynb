{
 "cells": [
  {
   "cell_type": "markdown",
   "metadata": {
    "colab_type": "text",
    "id": "view-in-github"
   },
   "source": [
    "<a href=\"https://colab.research.google.com/github/bangkitgroupassigment1/Assignment_05/blob/master/Tomato_Health_Condition_Classification.ipynb\" target=\"_parent\"><img src=\"https://colab.research.google.com/assets/colab-badge.svg\" alt=\"Open In Colab\"/></a>"
   ]
  },
  {
   "cell_type": "markdown",
   "metadata": {
    "colab_type": "text",
    "id": "eA13_adoVlwu"
   },
   "source": [
    "# Import the libs needed"
   ]
  },
  {
   "cell_type": "code",
   "execution_count": 38,
   "metadata": {
    "colab": {
     "base_uri": "https://localhost:8080/",
     "height": 34
    },
    "colab_type": "code",
    "id": "uJa_TsdwUm5j",
    "outputId": "cf4af731-4831-4fbc-f94e-92459b4d96a0"
   },
   "outputs": [
    {
     "data": {
      "text/plain": [
       "['.git',\n",
       " '.gitignore',\n",
       " '.ipynb_checkpoints',\n",
       " 'category_to_num.csv',\n",
       " 'New Plant Diseases Dataset(Augmented)',\n",
       " 'NN_Model.ipynb',\n",
       " 'playstore.html',\n",
       " 'playstore.ipynb',\n",
       " 'README.md',\n",
       " 'test push Adam.txt',\n",
       " 'test.csv',\n",
       " 'Tomato_Health_Condition_Classification.ipynb',\n",
       " 'tomato_leaves150.npz',\n",
       " 'tomato_leaves_test100.npz']"
      ]
     },
     "execution_count": 38,
     "metadata": {},
     "output_type": "execute_result"
    }
   ],
   "source": [
    "import numpy as np\n",
    "import pandas as pd\n",
    "import matplotlib.pyplot as plt\n",
    "import os, sys\n",
    "import tensorflow as tf\n",
    "from tensorflow.keras import layers\n",
    "os.listdir(path='.')"
   ]
  },
  {
   "cell_type": "markdown",
   "metadata": {
    "colab_type": "text",
    "id": "9RYX9d4-U7H6"
   },
   "source": [
    "# Check Tensorflow Version"
   ]
  },
  {
   "cell_type": "code",
   "execution_count": 39,
   "metadata": {
    "colab": {},
    "colab_type": "code",
    "id": "vbwOtRE9U11h"
   },
   "outputs": [
    {
     "data": {
      "text/plain": [
       "'2.1.0'"
      ]
     },
     "execution_count": 39,
     "metadata": {},
     "output_type": "execute_result"
    }
   ],
   "source": [
    "tf.__version__"
   ]
  },
  {
   "cell_type": "markdown",
   "metadata": {
    "colab_type": "text",
    "id": "ookKQj3QVx0G"
   },
   "source": [
    "# Define a function to get directories name/path"
   ]
  },
  {
   "cell_type": "code",
   "execution_count": 40,
   "metadata": {
    "colab": {},
    "colab_type": "code",
    "id": "9MPQ4SaxV0lW"
   },
   "outputs": [],
   "source": [
    "def get_file_path_in_dir(dir_name):\n",
    "    ''' Get the full path name of files/folders in\n",
    "    directory specified by path to directory in\n",
    "    argument \"dir_name\" and return it as a list\n",
    "\n",
    "    dir_name is a Path from the directory of your current working script to the folder that you want to\n",
    "    check all of the subfolder/file\n",
    "    example:\n",
    "    pwd\n",
    "    /usr/Documents\n",
    "    ls .\n",
    "    Music\n",
    "    document.txt\n",
    "\n",
    "    get_file_path_in_dir('usr/Documents')\n",
    "    returns\n",
    "    [/usr/Documents/Music,\n",
    "    /usr/Documents/document.txt]\n",
    "    '''\n",
    "    target_dir = os.listdir(dir_name)\n",
    "    dir_list = []\n",
    "    for entry in target_dir:\n",
    "        full_path = os.path.join(dir_name, entry)\n",
    "        dir_list.append(full_path)\n",
    "    \n",
    "    return dir_list"
   ]
  },
  {
   "cell_type": "markdown",
   "metadata": {
    "colab_type": "text",
    "id": "irbunTDaXBYh"
   },
   "source": [
    "# Define a function to get folder/file in a directory"
   ]
  },
  {
   "cell_type": "code",
   "execution_count": 41,
   "metadata": {
    "colab": {},
    "colab_type": "code",
    "id": "jNgdxM0gXCIU"
   },
   "outputs": [],
   "source": [
    "def get_sub_dir_names(path_to_dir):\n",
    "    '''Get the name of all file/folder in a directory specified\n",
    "    by the path \"path_to_dir\" and return it as list\n",
    "    example:\n",
    "    pwd\n",
    "    /usr/Documents\n",
    "    ls .\n",
    "    Music\n",
    "    documents.txt\n",
    "\n",
    "    get_sub_dir_names('usr/Documents')\n",
    "    returns\n",
    "    ['Music',\n",
    "    'documents.txt']\n",
    "\n",
    "    '''\n",
    "    subdir_path_list = get_file_path_in_dir(path_to_dir)\n",
    "    subdir_name_list = []\n",
    "    for subdir in subdir_path_list:\n",
    "        subdir_name_list.append(subdir.split(\"\\\\\")[-1])\n",
    "    return subdir_name_list"
   ]
  },
  {
   "cell_type": "markdown",
   "metadata": {
    "colab_type": "text",
    "id": "KjQVpEy2WK8b"
   },
   "source": [
    "# Get the full path of each subdirectory in a directory specify by the variable train_dir_name\n",
    "train_dir_name contain path from current working directory(relative path) to the directory containing"
   ]
  },
  {
   "cell_type": "code",
   "execution_count": 42,
   "metadata": {
    "colab": {},
    "colab_type": "code",
    "id": "rQWn5C6FWPiO"
   },
   "outputs": [],
   "source": [
    "# get every path to subfolder/file in train_dir_name folder\n",
    "train_dir_name = 'New Plant Diseases Dataset(Augmented)\\\\New Plant Diseases Dataset(Augmented)\\\\train\\\\'\n",
    "train_data_dir = get_file_path_in_dir(train_dir_name)"
   ]
  },
  {
   "cell_type": "code",
   "execution_count": 43,
   "metadata": {
    "colab": {},
    "colab_type": "code",
    "id": "WtheiXKPXXK7"
   },
   "outputs": [
    {
     "data": {
      "text/plain": [
       "['Tomato___Bacterial_spot',\n",
       " 'Tomato___Early_blight',\n",
       " 'Tomato___healthy',\n",
       " 'Tomato___Late_blight',\n",
       " 'Tomato___Leaf_Mold',\n",
       " 'Tomato___Septoria_leaf_spot',\n",
       " 'Tomato___Spider_mites Two-spotted_spider_mite',\n",
       " 'Tomato___Target_Spot',\n",
       " 'Tomato___Tomato_mosaic_virus',\n",
       " 'Tomato___Tomato_Yellow_Leaf_Curl_Virus']"
      ]
     },
     "execution_count": 43,
     "metadata": {},
     "output_type": "execute_result"
    }
   ],
   "source": [
    "tomato_class_list = get_sub_dir_names(train_dir_name)\n",
    "tomato_class_list"
   ]
  },
  {
   "cell_type": "code",
   "execution_count": 44,
   "metadata": {
    "colab": {},
    "colab_type": "code",
    "id": "dj28VeZjXcPz"
   },
   "outputs": [],
   "source": [
    "import PIL\n",
    "from PIL import Image, ImageOps"
   ]
  },
  {
   "cell_type": "code",
   "execution_count": 45,
   "metadata": {
    "colab": {},
    "colab_type": "code",
    "id": "6NFf27xIXh3Q"
   },
   "outputs": [],
   "source": [
    "def image_to_ndarray(path_to_image):\n",
    "    \"\"\"read image from the file path name and\n",
    "    convert the image to np array with dimension of 200x200x3 pixel\n",
    "    example:\n",
    "    image_to_ndarray(\"usr/Documents/fish.jpg\")\n",
    "    returns\n",
    "    np.array\n",
    "    where np.array.shape is (100,100,3)\n",
    "    \"\"\"\n",
    "    image = Image.open(path_to_image)\n",
    "    # Resize image to 100x100 pixel\n",
    "    image_resize = ImageOps.fit(image, (100, 100), Image.ANTIALIAS)\n",
    "    data = np.asarray(image_resize)\n",
    "    return data"
   ]
  },
  {
   "cell_type": "markdown",
   "metadata": {
    "colab_type": "text",
    "id": "QbDQYwZxXmhi"
   },
   "source": [
    "# Read Train image dataset to np array\n",
    "we will also map each label of the image"
   ]
  },
  {
   "cell_type": "code",
   "execution_count": 46,
   "metadata": {
    "colab": {},
    "colab_type": "code",
    "id": "YQWCAlfkXprf"
   },
   "outputs": [],
   "source": [
    "def read_image_dir_to_np_array(dir_name, class_list):\n",
    "    \"\"\"take path to directory name which contains images file,\n",
    "       read the image into np array, and return list of image and its corresponding label\"\"\"\n",
    "    image_dataset = []\n",
    "    label = []\n",
    "    for cla in class_list:\n",
    "        class_items = get_file_path_in_dir(dir_name+\"\\\\\"+cla)\n",
    "        for item in class_items:\n",
    "            data = image_to_ndarray(item)\n",
    "            image_dataset.append(data)\n",
    "            label.append(cla)\n",
    "\n",
    "    return image_dataset, label"
   ]
  },
  {
   "cell_type": "code",
   "execution_count": 47,
   "metadata": {
    "colab": {},
    "colab_type": "code",
    "id": "0t9_AW88XsRH"
   },
   "outputs": [],
   "source": [
    "train_numpy_dataset, label_train = read_image_dir_to_np_array(train_dir_name, tomato_class_list)"
   ]
  },
  {
   "cell_type": "markdown",
   "metadata": {
    "colab_type": "text",
    "id": "e48vCqrRXwNe"
   },
   "source": [
    "# Convert array of image into numpy array\n",
    "the dimension of the array is as follows: (m, h, w, 3) where m is the number of image, h is the height of each image, w is the width of the image, and 3 is for the number of color channel(RGB)"
   ]
  },
  {
   "cell_type": "code",
   "execution_count": 48,
   "metadata": {
    "colab": {},
    "colab_type": "code",
    "id": "Y0r94kHwX0Fr"
   },
   "outputs": [
    {
     "data": {
      "text/plain": [
       "(18345, 100, 100, 3)"
      ]
     },
     "execution_count": 48,
     "metadata": {},
     "output_type": "execute_result"
    }
   ],
   "source": [
    "train_numpy_dataset = np.array(train_numpy_dataset)\n",
    "train_numpy_dataset.shape"
   ]
  },
  {
   "cell_type": "code",
   "execution_count": 49,
   "metadata": {
    "colab": {},
    "colab_type": "code",
    "id": "lxOxlttgX0uv"
   },
   "outputs": [],
   "source": [
    "# Create set of unique labels and make a dictionary that maps the label to unique integer number\n",
    "label_unique = list(set(label_train))\n",
    "label_dict = dict((label, index) for index, label in enumerate(label_unique))\n",
    "label_df = pd.DataFrame(label_dict.items(), columns=['Tomato Health', 'Health Label'])\n",
    "label_df.to_csv(\"category_to_num.csv\")"
   ]
  },
  {
   "cell_type": "code",
   "execution_count": 50,
   "metadata": {
    "colab": {},
    "colab_type": "code",
    "id": "3IV5WLWqX4Us"
   },
   "outputs": [
    {
     "data": {
      "text/plain": [
       "{'Tomato___Early_blight': 0,\n",
       " 'Tomato___Leaf_Mold': 1,\n",
       " 'Tomato___Spider_mites Two-spotted_spider_mite': 2,\n",
       " 'Tomato___Tomato_Yellow_Leaf_Curl_Virus': 3,\n",
       " 'Tomato___Septoria_leaf_spot': 4,\n",
       " 'Tomato___Late_blight': 5,\n",
       " 'Tomato___Bacterial_spot': 6,\n",
       " 'Tomato___Target_Spot': 7,\n",
       " 'Tomato___healthy': 8,\n",
       " 'Tomato___Tomato_mosaic_virus': 9}"
      ]
     },
     "execution_count": 50,
     "metadata": {},
     "output_type": "execute_result"
    }
   ],
   "source": [
    "label_dict"
   ]
  },
  {
   "cell_type": "code",
   "execution_count": 51,
   "metadata": {
    "colab": {},
    "colab_type": "code",
    "id": "cfHbKB_bX4wB"
   },
   "outputs": [
    {
     "data": {
      "image/png": "[encoded data removed]",
      "text/plain": [
       "<PIL.Image.Image image mode=RGB size=100x100 at 0x19E53C17288>"
      ]
     },
     "execution_count": 51,
     "metadata": {},
     "output_type": "execute_result"
    }
   ],
   "source": [
    "# label_train\n",
    "Image.fromarray(train_numpy_dataset[1])"
   ]
  },
  {
   "cell_type": "code",
   "execution_count": 52,
   "metadata": {
    "colab": {},
    "colab_type": "code",
    "id": "Ll47anfTX7FE"
   },
   "outputs": [
    {
     "data": {
      "text/plain": [
       "array([6, 6, 6, ..., 3, 3, 3])"
      ]
     },
     "execution_count": 52,
     "metadata": {},
     "output_type": "execute_result"
    }
   ],
   "source": [
    "# map train label to dictionary value\n",
    "train_numpy_label = np.array([label_dict[key] for key in label_train])\n",
    "train_numpy_label"
   ]
  },
  {
   "cell_type": "code",
   "execution_count": 53,
   "metadata": {
    "colab": {},
    "colab_type": "code",
    "id": "__qpEk4TX8-v"
   },
   "outputs": [
    {
     "data": {
      "text/plain": [
       "(18345,)"
      ]
     },
     "execution_count": 53,
     "metadata": {},
     "output_type": "execute_result"
    }
   ],
   "source": [
    "train_numpy_label.shape"
   ]
  },
  {
   "cell_type": "markdown",
   "metadata": {
    "colab_type": "text",
    "id": "O3K6GAM0YA_x"
   },
   "source": [
    "# Save train dataset and its label as npz file"
   ]
  },
  {
   "cell_type": "code",
   "execution_count": 54,
   "metadata": {
    "colab": {},
    "colab_type": "code",
    "id": "Sbu_au5OYDb8"
   },
   "outputs": [],
   "source": [
    "np.savez(\"tomato_leaves150.npz\", train_numpy_dataset, train_numpy_label)"
   ]
  },
  {
   "cell_type": "markdown",
   "metadata": {
    "colab_type": "text",
    "id": "e4pLDRSxYKlO"
   },
   "source": [
    "# Read validate dataset to np array"
   ]
  },
  {
   "cell_type": "code",
   "execution_count": 55,
   "metadata": {
    "colab": {},
    "colab_type": "code",
    "id": "8UWL1ipQYNO2"
   },
   "outputs": [],
   "source": [
    "valid_dir_name = 'New Plant Diseases Dataset(Augmented)\\\\New Plant Diseases Dataset(Augmented)\\\\valid\\\\'\n",
    "valid_numpy, label_valid = read_image_dir_to_np_array(valid_dir_name, tomato_class_list)\n",
    "valid_numpy_label = np.array([label_dict[key] for key in label_valid])"
   ]
  },
  {
   "cell_type": "code",
   "execution_count": 56,
   "metadata": {
    "colab": {},
    "colab_type": "code",
    "id": "p0bfdYDZYPMW"
   },
   "outputs": [
    {
     "data": {
      "text/plain": [
       "(4585, 100, 100, 3)"
      ]
     },
     "execution_count": 56,
     "metadata": {},
     "output_type": "execute_result"
    }
   ],
   "source": [
    "# Convert list of validation image matrix into np array\n",
    "valid_numpy = np.array(valid_numpy)\n",
    "valid_numpy.shape"
   ]
  },
  {
   "cell_type": "code",
   "execution_count": 57,
   "metadata": {
    "colab": {},
    "colab_type": "code",
    "id": "3iBCTgb0Yitz"
   },
   "outputs": [],
   "source": [
    "np.savez(\"tomato_leaves_test100.npz\", valid_numpy, valid_numpy_label)"
   ]
  },
  {
   "cell_type": "code",
   "execution_count": 58,
   "metadata": {
    "colab": {},
    "colab_type": "code",
    "id": "QME0Gq-hYmeb"
   },
   "outputs": [
    {
     "data": {
      "text/plain": [
       "(4585,)"
      ]
     },
     "execution_count": 58,
     "metadata": {},
     "output_type": "execute_result"
    }
   ],
   "source": [
    "valid_numpy_label.shape"
   ]
  },
  {
   "cell_type": "markdown",
   "metadata": {},
   "source": [
    "## Modelling"
   ]
  },
  {
   "cell_type": "code",
   "execution_count": 59,
   "metadata": {
    "scrolled": false
   },
   "outputs": [],
   "source": [
    "npz_train = np.load('tomato_leaves150.npz')"
   ]
  },
  {
   "cell_type": "code",
   "execution_count": 60,
   "metadata": {},
   "outputs": [
    {
     "data": {
      "text/plain": [
       "(18345,)"
      ]
     },
     "execution_count": 60,
     "metadata": {},
     "output_type": "execute_result"
    }
   ],
   "source": [
    "x_train = npz_train['arr_0']\n",
    "y_train = npz_train['arr_1']\n",
    "y_train.shape"
   ]
  },
  {
   "cell_type": "code",
   "execution_count": 61,
   "metadata": {},
   "outputs": [],
   "source": [
    "# shuffle training data\n",
    "index_shuffle = np.random.permutation(len(x_train))\n",
    "x_train = x_train[index_shuffle]\n",
    "y_train = y_train[index_shuffle]"
   ]
  },
  {
   "cell_type": "code",
   "execution_count": 62,
   "metadata": {},
   "outputs": [],
   "source": [
    "npz_test = np.load('tomato_leaves_test100.npz')\n",
    "x_test = npz_test['arr_0']\n",
    "y_test = npz_test['arr_1']"
   ]
  },
  {
   "cell_type": "code",
   "execution_count": 63,
   "metadata": {},
   "outputs": [],
   "source": [
    "# shuffle test data\n",
    "index_shuffle = np.random.permutation(len(x_test))\n",
    "x_test = x_test[index_shuffle]\n",
    "y_test = y_test[index_shuffle]"
   ]
  },
  {
   "cell_type": "code",
   "execution_count": 64,
   "metadata": {},
   "outputs": [
    {
     "data": {
      "text/plain": [
       "array([0, 0, 4, ..., 7, 3, 3])"
      ]
     },
     "execution_count": 64,
     "metadata": {},
     "output_type": "execute_result"
    }
   ],
   "source": [
    "y_test"
   ]
  },
  {
   "cell_type": "code",
   "execution_count": 65,
   "metadata": {},
   "outputs": [
    {
     "data": {
      "text/plain": [
       "<matplotlib.image.AxesImage at 0x19e785560c8>"
      ]
     },
     "execution_count": 65,
     "metadata": {},
     "output_type": "execute_result"
    },
    {
     "data": {
      "image/png": "[encoded data removed]",
      "text/plain": [
       "<Figure size 432x288 with 1 Axes>"
      ]
     },
     "metadata": {
      "needs_background": "light"
     },
     "output_type": "display_data"
    }
   ],
   "source": [
    "plt.imshow(x_train[20])"
   ]
  },
  {
   "cell_type": "code",
   "execution_count": 66,
   "metadata": {},
   "outputs": [
    {
     "data": {
      "text/plain": [
       "<matplotlib.image.AxesImage at 0x19e53ecb108>"
      ]
     },
     "execution_count": 66,
     "metadata": {},
     "output_type": "execute_result"
    },
    {
     "data": {
      "image/png": "[encoded data removed]",
      "text/plain": [
       "<Figure size 432x288 with 1 Axes>"
      ]
     },
     "metadata": {
      "needs_background": "light"
     },
     "output_type": "display_data"
    }
   ],
   "source": [
    "plt.imshow(x_test[20])"
   ]
  },
  {
   "cell_type": "code",
   "execution_count": 67,
   "metadata": {},
   "outputs": [
    {
     "ename": "MemoryError",
     "evalue": "",
     "output_type": "error",
     "traceback": [
      "\u001b[1;31m---------------------------------------------------------------------------\u001b[0m",
      "\u001b[1;31mMemoryError\u001b[0m                               Traceback (most recent call last)",
      "\u001b[1;32m<ipython-input-67-00b2c6556ad4>\u001b[0m in \u001b[0;36m<module>\u001b[1;34m\u001b[0m\n\u001b[0;32m      1\u001b[0m \u001b[0mx_train_norm\u001b[0m \u001b[1;33m=\u001b[0m \u001b[0mx_train\u001b[0m \u001b[1;33m/\u001b[0m \u001b[1;36m255.0\u001b[0m\u001b[1;33m\u001b[0m\u001b[1;33m\u001b[0m\u001b[0m\n\u001b[1;32m----> 2\u001b[1;33m \u001b[0mx_test_norm\u001b[0m \u001b[1;33m=\u001b[0m \u001b[0mx_test\u001b[0m \u001b[1;33m/\u001b[0m \u001b[1;36m255.0\u001b[0m\u001b[1;33m\u001b[0m\u001b[1;33m\u001b[0m\u001b[0m\n\u001b[0m",
      "\u001b[1;31mMemoryError\u001b[0m: "
     ]
    }
   ],
   "source": [
    "x_train_norm = x_train / 255.0\n",
    "x_test_norm = x_test / 255.0"
   ]
  },
  {
   "cell_type": "markdown",
   "metadata": {},
   "source": [
    "## Build a Neural Network"
   ]
  },
  {
   "cell_type": "code",
   "execution_count": null,
   "metadata": {},
   "outputs": [],
   "source": [
    "# define plotting loss function\n",
    "\n",
    "def plot_curve(epochs, hist, list_of_metrics):\n",
    "  \"\"\"Plot a curve one or more classification metrics vs. epoch.\"\"\"\n",
    "\n",
    "  plt.figure()\n",
    "  plt.xlabel(\"Epoch\")\n",
    "  plt.ylabel(\"Value\")\n",
    "\n",
    "  for m in list_of_metrics:\n",
    "    x = hist[m]\n",
    "    plt.plot(epochs[1:], x[1:], label=m)\n",
    "\n",
    "  plt.legend()\n",
    "  plt.show()"
   ]
  },
  {
   "cell_type": "code",
   "execution_count": null,
   "metadata": {},
   "outputs": [],
   "source": [
    "# define deep neural network model\n",
    "def create_model(learning_rate,neurons_number=270,regularizer=0.15,dropout_rate=0.4):\n",
    "  \"\"\"Create and compile deep neural net model\"\"\"\n",
    "  model = tf.keras.models.Sequential()\n",
    "\n",
    "  # Add the layer containing the feature columns to the model.\n",
    "  model.add(tf.keras.layers.Flatten(input_shape=(100, 100, 3)))\n",
    "\n",
    "  # Define the first hidden layer\n",
    "  model.add(tf.keras.layers.Dense(units=neurons_number,\n",
    "                                  activation='relu',\n",
    "                                  kernel_regularizer=tf.keras.regularizers.l2(regularizer),\n",
    "                                  name='Hidden1'))\n",
    "  \n",
    "  # Define a dropout regularization layer. \n",
    "  model.add(tf.keras.layers.Dropout(rate=dropout_rate))\n",
    "\n",
    "  # Define the output layer\n",
    "  model.add(tf.keras.layers.Dense(units=10,\n",
    "                                  activation='softmax',\n",
    "                                  name='Output'))\n",
    "  \n",
    "  model.compile(optimizer=tf.keras.optimizers.Adam(lr=learning_rate),\n",
    "                loss=\"sparse_categorical_crossentropy\",\n",
    "                metrics=['accuracy'])\n",
    "  \n",
    "  return model"
   ]
  },
  {
   "cell_type": "code",
   "execution_count": null,
   "metadata": {},
   "outputs": [],
   "source": [
    "def train_model(model, train_features, train_label, epochs,\n",
    "                batch_size=None, validation_split=0.05):\n",
    "  \"\"\"Train the model by feeding it data.\"\"\"\n",
    "\n",
    "  history = model.fit(x=train_features, y=train_label, batch_size=batch_size,\n",
    "                      epochs=epochs, shuffle=True,\n",
    "                      validation_split=validation_split)\n",
    "  \n",
    "  # The list of epochs of the model\n",
    "  epochs = history.epoch\n",
    "\n",
    "  # gather a snapshot of the model's mean squared error\n",
    "  # at each epoch.\n",
    "  hist = pd.DataFrame(history.history)\n",
    "\n",
    "  return epochs, hist"
   ]
  },
  {
   "cell_type": "code",
   "execution_count": null,
   "metadata": {},
   "outputs": [],
   "source": [
    "# define the hyperparameters\n",
    "learning_rate = 0.000008\n",
    "epochs = 70\n",
    "batch_size = 150\n",
    "validation_split = 0.4\n",
    "\n",
    "\n",
    "# Established model's topography\n",
    "my_model = create_model(learning_rate)\n",
    "\n",
    "# Train the model on normalized training set\n",
    "epochs, hist = train_model(my_model, x_train_norm, y_train, epochs,\n",
    "                          batch_size, validation_split)\n",
    "\n",
    "# plot accuracy vs epochs of training\n",
    "list_of_metrics_to_plot = ['accuracy'] \n",
    "plot_curve(epochs, hist, list_of_metrics_to_plot)"
   ]
  },
  {
   "cell_type": "code",
   "execution_count": null,
   "metadata": {},
   "outputs": [],
   "source": [
    "my_model.evaluate(x=x_test_norm, y=y_test, batch_size=batch_size)"
   ]
  }
 ],
 "metadata": {
  "colab": {
   "authorship_tag": "ABX9TyO+Z+wDdtQFhRh1jojGBUXP",
   "include_colab_link": true,
   "name": "Tomato_Health_Condition_Classification.ipynb",
   "provenance": []
  },
  "kernelspec": {
   "display_name": "Python 3",
   "language": "python",
   "name": "python3"
  },
  "language_info": {
   "codemirror_mode": {
    "name": "ipython",
    "version": 3
   },
   "file_extension": ".py",
   "mimetype": "text/x-python",
   "name": "python",
   "nbconvert_exporter": "python",
   "pygments_lexer": "ipython3",
   "version": "3.7.4"
  }
 },
 "nbformat": 4,
 "nbformat_minor": 1
}
