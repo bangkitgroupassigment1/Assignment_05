{
  "nbformat": 4,
  "nbformat_minor": 0,
  "metadata": {
    "colab": {
      "name": "Tomato_Health_Condition_Classification.ipynb",
      "provenance": [],
      "authorship_tag": "ABX9TyO+Z+wDdtQFhRh1jojGBUXP",
      "include_colab_link": true
    },
    "kernelspec": {
      "name": "python3",
      "display_name": "Python 3"
    }
  },
  "cells": [
    {
      "cell_type": "markdown",
      "metadata": {
        "id": "view-in-github",
        "colab_type": "text"
      },
      "source": [
        "<a href=\"https://colab.research.google.com/github/bangkitgroupassigment1/Assignment_05/blob/master/Tomato_Health_Condition_Classification.ipynb\" target=\"_parent\"><img src=\"https://colab.research.google.com/assets/colab-badge.svg\" alt=\"Open In Colab\"/></a>"
      ]
    },
    {
      "cell_type": "markdown",
      "metadata": {
        "id": "eA13_adoVlwu",
        "colab_type": "text"
      },
      "source": [
        "# Import the libs needed"
      ]
    },
    {
      "cell_type": "code",
      "metadata": {
        "id": "uJa_TsdwUm5j",
        "colab_type": "code",
        "outputId": "cf4af731-4831-4fbc-f94e-92459b4d96a0",
        "colab": {
          "base_uri": "https://localhost:8080/",
          "height": 34
        }
      },
      "source": [
        "import numpy as np\n",
        "import pandas as pd\n",
        "import matplotlib.pyplot as plt\n",
        "import os, sys\n",
        "import tensorflow as tf\n",
        "os.listdir(path='.')"
      ],
      "execution_count": 0,
      "outputs": [
        {
          "output_type": "execute_result",
          "data": {
            "text/plain": [
              "['.config', 'sample_data']"
            ]
          },
          "metadata": {
            "tags": []
          },
          "execution_count": 1
        }
      ]
    },
    {
      "cell_type": "markdown",
      "metadata": {
        "id": "9RYX9d4-U7H6",
        "colab_type": "text"
      },
      "source": [
        "# Check Tensorflow Version"
      ]
    },
    {
      "cell_type": "code",
      "metadata": {
        "id": "vbwOtRE9U11h",
        "colab_type": "code",
        "colab": {}
      },
      "source": [
        "tf.__version__"
      ],
      "execution_count": 0,
      "outputs": []
    },
    {
      "cell_type": "markdown",
      "metadata": {
        "id": "ookKQj3QVx0G",
        "colab_type": "text"
      },
      "source": [
        "# Define a function to get directories name/path"
      ]
    },
    {
      "cell_type": "code",
      "metadata": {
        "id": "9MPQ4SaxV0lW",
        "colab_type": "code",
        "colab": {}
      },
      "source": [
        "def get_file_path_in_dir(dir_name):\n",
        "    ''' Get the full path name of files/folders in\n",
        "    directory specified by path to directory in\n",
        "    argument \"dir_name\" and return it as a list\n",
        "\n",
        "    dir_name is a Path from the directory of your current working script to the folder that you want to\n",
        "    check all of the subfolder/file\n",
        "    example:\n",
        "    pwd\n",
        "    /usr/Documents\n",
        "    ls .\n",
        "    Music\n",
        "    document.txt\n",
        "\n",
        "    get_file_path_in_dir('usr/Documents')\n",
        "    returns\n",
        "    [/usr/Documents/Music,\n",
        "    /usr/Documents/document.txt]\n",
        "    '''\n",
        "    target_dir = os.listdir(dir_name)\n",
        "    dir_list = []\n",
        "    for entry in target_dir:\n",
        "        full_path = os.path.join(dir_name, entry)\n",
        "        dir_list.append(full_path)\n",
        "    \n",
        "    return dir_list"
      ],
      "execution_count": 0,
      "outputs": []
    },
    {
      "cell_type": "markdown",
      "metadata": {
        "id": "irbunTDaXBYh",
        "colab_type": "text"
      },
      "source": [
        "# Define a function to get folder/file in a directory"
      ]
    },
    {
      "cell_type": "code",
      "metadata": {
        "id": "jNgdxM0gXCIU",
        "colab_type": "code",
        "colab": {}
      },
      "source": [
        "def get_sub_dir_names(path_to_dir):\n",
        "    '''Get the name of all file/folder in a directory specified\n",
        "    by the path \"path_to_dir\" and return it as list\n",
        "    example:\n",
        "    pwd\n",
        "    /usr/Documents\n",
        "    ls .\n",
        "    Music\n",
        "    documents.txt\n",
        "\n",
        "    get_sub_dir_names('usr/Documents')\n",
        "    returns\n",
        "    ['Music',\n",
        "    'documents.txt']\n",
        "\n",
        "    '''\n",
        "    subdir_path_list = get_file_path_in_dir(path_to_dir)\n",
        "    subdir_name_list = []\n",
        "    for subdir in subdir_path_list:\n",
        "        subdir_name_list.append(subdir.split(\"\\\\\")[-1])\n",
        "    return subdir_name_list"
      ],
      "execution_count": 0,
      "outputs": []
    },
    {
      "cell_type": "markdown",
      "metadata": {
        "id": "KjQVpEy2WK8b",
        "colab_type": "text"
      },
      "source": [
        "# Get the full path of each subdirectory in a directory specify by the variable train_dir_name\n",
        "train_dir_name contain path from current working directory(relative path) to the directory containing"
      ]
    },
    {
      "cell_type": "code",
      "metadata": {
        "id": "rQWn5C6FWPiO",
        "colab_type": "code",
        "colab": {}
      },
      "source": [
        "# get every path to subfolder/file in train_dir_name folder\n",
        "train_dir_name = 'plant_disease\\\\plan_disease_aug\\\\train\\\\'\n",
        "train_data_dir = get_file_path_in_dir(train_dir_name)"
      ],
      "execution_count": 0,
      "outputs": []
    },
    {
      "cell_type": "code",
      "metadata": {
        "id": "WtheiXKPXXK7",
        "colab_type": "code",
        "colab": {}
      },
      "source": [
        "tomato_class_list = get_sub_dir_names(train_dir_name)\n",
        "tomato_class_list"
      ],
      "execution_count": 0,
      "outputs": []
    },
    {
      "cell_type": "code",
      "metadata": {
        "id": "dj28VeZjXcPz",
        "colab_type": "code",
        "colab": {}
      },
      "source": [
        "import PIL\n",
        "from PIL import Image, ImageOps"
      ],
      "execution_count": 0,
      "outputs": []
    },
    {
      "cell_type": "code",
      "metadata": {
        "id": "6NFf27xIXh3Q",
        "colab_type": "code",
        "colab": {}
      },
      "source": [
        "def image_to_ndarray(path_to_image):\n",
        "    \"\"\"read image from the file path name and\n",
        "    convert the image to np array with dimension of 200x200x3 pixel\n",
        "    example:\n",
        "    image_to_ndarray(\"usr/Documents/fish.jpg\")\n",
        "    returns\n",
        "    np.array\n",
        "    where np.array.shape is (100,100,3)\n",
        "    \"\"\"\n",
        "    image = Image.open(path_to_image)\n",
        "    # Resize image to 100x100 pixel\n",
        "    image_resize = ImageOps.fit(image, (100, 100), Image.ANTIALIAS)\n",
        "    data = np.asarray(image_resize)\n",
        "    return data"
      ],
      "execution_count": 0,
      "outputs": []
    },
    {
      "cell_type": "markdown",
      "metadata": {
        "id": "QbDQYwZxXmhi",
        "colab_type": "text"
      },
      "source": [
        "# Read Train image dataset to np array\n",
        "we will also map each label of the image"
      ]
    },
    {
      "cell_type": "code",
      "metadata": {
        "id": "YQWCAlfkXprf",
        "colab_type": "code",
        "colab": {}
      },
      "source": [
        "def read_image_dir_to_np_array(dir_name, class_list):\n",
        "    \"\"\"take path to directory name which contains images file,\n",
        "       read the image into np array, and return list of image and its corresponding label\"\"\"\n",
        "    image_dataset = []\n",
        "    label = []\n",
        "    for cla in class_list:\n",
        "        class_items = get_file_path_in_dir(dir_name+\"\\\\\"+cla)\n",
        "        for item in class_items:\n",
        "            data = image_to_ndarray(item)\n",
        "            image_dataset.append(data)\n",
        "            label.append(cla)\n",
        "\n",
        "    return image_dataset, label"
      ],
      "execution_count": 0,
      "outputs": []
    },
    {
      "cell_type": "code",
      "metadata": {
        "id": "0t9_AW88XsRH",
        "colab_type": "code",
        "colab": {}
      },
      "source": [
        "train_numpy_dataset, label_train = read_image_dir_to_np_array(train_dir_name, tomato_class_list)"
      ],
      "execution_count": 0,
      "outputs": []
    },
    {
      "cell_type": "markdown",
      "metadata": {
        "id": "e48vCqrRXwNe",
        "colab_type": "text"
      },
      "source": [
        "# Convert array of image into numpy array\n",
        "the dimension of the array is as follows: (m, h, w, 3) where m is the number of image, h is the height of each image, w is the width of the image, and 3 is for the number of color channel(RGB)"
      ]
    },
    {
      "cell_type": "code",
      "metadata": {
        "id": "Y0r94kHwX0Fr",
        "colab_type": "code",
        "colab": {}
      },
      "source": [
        "train_numpy_dataset = np.array(train_numpy_dataset)\n",
        "train_numpy_dataset.shape"
      ],
      "execution_count": 0,
      "outputs": []
    },
    {
      "cell_type": "code",
      "metadata": {
        "id": "lxOxlttgX0uv",
        "colab_type": "code",
        "colab": {}
      },
      "source": [
        "# Create set of unique labels and make a dictionary that maps the label to unique integer number\n",
        "label_unique = list(set(label_train))\n",
        "label_dict = dict((label, index) for index, label in enumerate(label_unique))\n",
        "label_df = pd.DataFrame(label_dict.items(), columns=['Tomato Health', 'Health Label'])\n",
        "label_df.to_csv(\"category_to_num.csv\")"
      ],
      "execution_count": 0,
      "outputs": []
    },
    {
      "cell_type": "code",
      "metadata": {
        "id": "3IV5WLWqX4Us",
        "colab_type": "code",
        "colab": {}
      },
      "source": [
        "label_dict"
      ],
      "execution_count": 0,
      "outputs": []
    },
    {
      "cell_type": "code",
      "metadata": {
        "id": "cfHbKB_bX4wB",
        "colab_type": "code",
        "colab": {}
      },
      "source": [
        "# label_train\n",
        "Image.fromarray(train_numpy_dataset[1])"
      ],
      "execution_count": 0,
      "outputs": []
    },
    {
      "cell_type": "code",
      "metadata": {
        "id": "Ll47anfTX7FE",
        "colab_type": "code",
        "colab": {}
      },
      "source": [
        "# map train label to dictionary value\n",
        "train_numpy_label = np.array([label_dict[key] for key in label_train])\n",
        "train_numpy_label"
      ],
      "execution_count": 0,
      "outputs": []
    },
    {
      "cell_type": "code",
      "metadata": {
        "id": "__qpEk4TX8-v",
        "colab_type": "code",
        "colab": {}
      },
      "source": [
        "train_numpy_label.shape"
      ],
      "execution_count": 0,
      "outputs": []
    },
    {
      "cell_type": "markdown",
      "metadata": {
        "id": "O3K6GAM0YA_x",
        "colab_type": "text"
      },
      "source": [
        "# Save train dataset and its label as npz file"
      ]
    },
    {
      "cell_type": "code",
      "metadata": {
        "id": "Sbu_au5OYDb8",
        "colab_type": "code",
        "colab": {}
      },
      "source": [
        "np.savez(\"tomato_leaves150.npz\", train_numpy_dataset, train_numpy_label)"
      ],
      "execution_count": 0,
      "outputs": []
    },
    {
      "cell_type": "markdown",
      "metadata": {
        "id": "e4pLDRSxYKlO",
        "colab_type": "text"
      },
      "source": [
        "# Read validate dataset to np array"
      ]
    },
    {
      "cell_type": "code",
      "metadata": {
        "id": "8UWL1ipQYNO2",
        "colab_type": "code",
        "colab": {}
      },
      "source": [
        "valid_dir_name = 'plant_disease\\\\plan_disease_aug\\\\valid\\\\'\n",
        "valid_numpy, label_valid = read_image_dir_to_np_array(valid_dir_name, tomato_class_list)\n",
        "valid_numpy_label = np.array([label_dict[key] for key in label_valid])"
      ],
      "execution_count": 0,
      "outputs": []
    },
    {
      "cell_type": "code",
      "metadata": {
        "id": "p0bfdYDZYPMW",
        "colab_type": "code",
        "colab": {}
      },
      "source": [
        "# Convert list of validation image matrix into np array\n",
        "valid_numpy = np.array(valid_numpy)\n",
        "valid_numpy.shape"
      ],
      "execution_count": 0,
      "outputs": []
    },
    {
      "cell_type": "code",
      "metadata": {
        "id": "3iBCTgb0Yitz",
        "colab_type": "code",
        "colab": {}
      },
      "source": [
        "np.savez(\"tomato_leaves_test100.npz\", valid_numpy, valid_numpy_label)"
      ],
      "execution_count": 0,
      "outputs": []
    },
    {
      "cell_type": "code",
      "metadata": {
        "id": "QME0Gq-hYmeb",
        "colab_type": "code",
        "colab": {}
      },
      "source": [
        "valid_numpy_label.shape"
      ],
      "execution_count": 0,
      "outputs": []
    }
  ]
}