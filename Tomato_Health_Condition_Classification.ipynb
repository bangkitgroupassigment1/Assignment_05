{
 "cells": [
  {
   "cell_type": "markdown",
   "metadata": {
    "colab_type": "text",
    "id": "view-in-github"
   },
   "source": [
    "<a href=\"https://colab.research.google.com/github/bangkitgroupassigment1/Assignment_05/blob/master/Tomato_Health_Condition_Classification.ipynb\" target=\"_parent\"><img src=\"https://colab.research.google.com/assets/colab-badge.svg\" alt=\"Open In Colab\"/></a>"
   ]
  },
  {
   "cell_type": "markdown",
   "metadata": {
    "colab_type": "text",
    "id": "eA13_adoVlwu"
   },
   "source": [
    "# Import the libs needed"
   ]
  },
  {
   "cell_type": "code",
   "execution_count": 1,
   "metadata": {
    "colab": {
     "base_uri": "https://localhost:8080/",
     "height": 34
    },
    "colab_type": "code",
    "id": "uJa_TsdwUm5j",
    "outputId": "cf4af731-4831-4fbc-f94e-92459b4d96a0"
   },
   "outputs": [
    {
     "data": {
      "text/plain": [
       "['.git',\n",
       " '.gitignore',\n",
       " '.ipynb_checkpoints',\n",
       " 'category_to_num.csv',\n",
       " 'New Plant Diseases Dataset(Augmented)',\n",
       " 'NN_Model.ipynb',\n",
       " 'playstore.html',\n",
       " 'playstore.ipynb',\n",
       " 'README.md',\n",
       " 'test push Adam.txt',\n",
       " 'test.csv',\n",
       " 'Tomato_Health_Condition_Classification.ipynb',\n",
       " 'tomato_leaves150.npz',\n",
       " 'tomato_leaves_test100.npz']"
      ]
     },
     "execution_count": 1,
     "metadata": {},
     "output_type": "execute_result"
    }
   ],
   "source": [
    "import numpy as np\n",
    "import pandas as pd\n",
    "import matplotlib.pyplot as plt\n",
    "import os, sys\n",
    "import tensorflow as tf\n",
    "from tensorflow.keras import layers\n",
    "os.listdir(path='.')"
   ]
  },
  {
   "cell_type": "markdown",
   "metadata": {
    "colab_type": "text",
    "id": "9RYX9d4-U7H6"
   },
   "source": [
    "# Check Tensorflow Version"
   ]
  },
  {
   "cell_type": "code",
   "execution_count": 2,
   "metadata": {
    "colab": {},
    "colab_type": "code",
    "id": "vbwOtRE9U11h"
   },
   "outputs": [
    {
     "data": {
      "text/plain": [
       "'2.1.0'"
      ]
     },
     "execution_count": 2,
     "metadata": {},
     "output_type": "execute_result"
    }
   ],
   "source": [
    "tf.__version__"
   ]
  },
  {
   "cell_type": "markdown",
   "metadata": {
    "colab_type": "text",
    "id": "ookKQj3QVx0G"
   },
   "source": [
    "# Define a function to get directories name/path"
   ]
  },
  {
   "cell_type": "code",
   "execution_count": 3,
   "metadata": {
    "colab": {},
    "colab_type": "code",
    "id": "9MPQ4SaxV0lW"
   },
   "outputs": [],
   "source": [
    "def get_file_path_in_dir(dir_name):\n",
    "    ''' Get the full path name of files/folders in\n",
    "    directory specified by path to directory in\n",
    "    argument \"dir_name\" and return it as a list\n",
    "\n",
    "    dir_name is a Path from the directory of your current working script to the folder that you want to\n",
    "    check all of the subfolder/file\n",
    "    example:\n",
    "    pwd\n",
    "    /usr/Documents\n",
    "    ls .\n",
    "    Music\n",
    "    document.txt\n",
    "\n",
    "    get_file_path_in_dir('usr/Documents')\n",
    "    returns\n",
    "    [/usr/Documents/Music,\n",
    "    /usr/Documents/document.txt]\n",
    "    '''\n",
    "    target_dir = os.listdir(dir_name)\n",
    "    dir_list = []\n",
    "    for entry in target_dir:\n",
    "        full_path = os.path.join(dir_name, entry)\n",
    "        dir_list.append(full_path)\n",
    "    \n",
    "    return dir_list"
   ]
  },
  {
   "cell_type": "markdown",
   "metadata": {
    "colab_type": "text",
    "id": "irbunTDaXBYh"
   },
   "source": [
    "# Define a function to get folder/file in a directory"
   ]
  },
  {
   "cell_type": "code",
   "execution_count": 4,
   "metadata": {
    "colab": {},
    "colab_type": "code",
    "id": "jNgdxM0gXCIU"
   },
   "outputs": [],
   "source": [
    "def get_sub_dir_names(path_to_dir):\n",
    "    '''Get the name of all file/folder in a directory specified\n",
    "    by the path \"path_to_dir\" and return it as list\n",
    "    example:\n",
    "    pwd\n",
    "    /usr/Documents\n",
    "    ls .\n",
    "    Music\n",
    "    documents.txt\n",
    "\n",
    "    get_sub_dir_names('usr/Documents')\n",
    "    returns\n",
    "    ['Music',\n",
    "    'documents.txt']\n",
    "\n",
    "    '''\n",
    "    subdir_path_list = get_file_path_in_dir(path_to_dir)\n",
    "    subdir_name_list = []\n",
    "    for subdir in subdir_path_list:\n",
    "        subdir_name_list.append(subdir.split(\"\\\\\")[-1])\n",
    "    return subdir_name_list"
   ]
  },
  {
   "cell_type": "markdown",
   "metadata": {
    "colab_type": "text",
    "id": "KjQVpEy2WK8b"
   },
   "source": [
    "# Get the full path of each subdirectory in a directory specify by the variable train_dir_name\n",
    "train_dir_name contain path from current working directory(relative path) to the directory containing"
   ]
  },
  {
   "cell_type": "code",
   "execution_count": 5,
   "metadata": {
    "colab": {},
    "colab_type": "code",
    "id": "rQWn5C6FWPiO"
   },
   "outputs": [],
   "source": [
    "# get every path to subfolder/file in train_dir_name folder\n",
    "train_dir_name = 'New Plant Diseases Dataset(Augmented)\\\\New Plant Diseases Dataset(Augmented)\\\\train\\\\'\n",
    "train_data_dir = get_file_path_in_dir(train_dir_name)"
   ]
  },
  {
   "cell_type": "code",
   "execution_count": 6,
   "metadata": {
    "colab": {},
    "colab_type": "code",
    "id": "WtheiXKPXXK7"
   },
   "outputs": [
    {
     "data": {
      "text/plain": [
       "['Tomato___Bacterial_spot',\n",
       " 'Tomato___Early_blight',\n",
       " 'Tomato___healthy',\n",
       " 'Tomato___Late_blight',\n",
       " 'Tomato___Leaf_Mold',\n",
       " 'Tomato___Septoria_leaf_spot',\n",
       " 'Tomato___Spider_mites Two-spotted_spider_mite',\n",
       " 'Tomato___Target_Spot',\n",
       " 'Tomato___Tomato_mosaic_virus',\n",
       " 'Tomato___Tomato_Yellow_Leaf_Curl_Virus']"
      ]
     },
     "execution_count": 6,
     "metadata": {},
     "output_type": "execute_result"
    }
   ],
   "source": [
    "tomato_class_list = get_sub_dir_names(train_dir_name)\n",
    "tomato_class_list"
   ]
  },
  {
   "cell_type": "code",
   "execution_count": 7,
   "metadata": {
    "colab": {},
    "colab_type": "code",
    "id": "dj28VeZjXcPz"
   },
   "outputs": [],
   "source": [
    "import PIL\n",
    "from PIL import Image, ImageOps"
   ]
  },
  {
   "cell_type": "code",
   "execution_count": 8,
   "metadata": {
    "colab": {},
    "colab_type": "code",
    "id": "6NFf27xIXh3Q"
   },
   "outputs": [],
   "source": [
    "def image_to_ndarray(path_to_image):\n",
    "    \"\"\"read image from the file path name and\n",
    "    convert the image to np array with dimension of 200x200x3 pixel\n",
    "    example:\n",
    "    image_to_ndarray(\"usr/Documents/fish.jpg\")\n",
    "    returns\n",
    "    np.array\n",
    "    where np.array.shape is (100,100,3)\n",
    "    \"\"\"\n",
    "    image = Image.open(path_to_image)\n",
    "    # Resize image to 100x100 pixel\n",
    "    image_resize = ImageOps.fit(image, (100, 100), Image.ANTIALIAS)\n",
    "    data = np.asarray(image_resize)\n",
    "    return data"
   ]
  },
  {
   "cell_type": "markdown",
   "metadata": {
    "colab_type": "text",
    "id": "QbDQYwZxXmhi"
   },
   "source": [
    "# Read Train image dataset to np array\n",
    "we will also map each label of the image"
   ]
  },
  {
   "cell_type": "code",
   "execution_count": 9,
   "metadata": {
    "colab": {},
    "colab_type": "code",
    "id": "YQWCAlfkXprf"
   },
   "outputs": [],
   "source": [
    "def read_image_dir_to_np_array(dir_name, class_list):\n",
    "    \"\"\"take path to directory name which contains images file,\n",
    "       read the image into np array, and return list of image and its corresponding label\"\"\"\n",
    "    image_dataset = []\n",
    "    label = []\n",
    "    for cla in class_list:\n",
    "        class_items = get_file_path_in_dir(dir_name+\"\\\\\"+cla)\n",
    "        for item in class_items:\n",
    "            data = image_to_ndarray(item)\n",
    "            image_dataset.append(data)\n",
    "            label.append(cla)\n",
    "\n",
    "    return image_dataset, label"
   ]
  },
  {
   "cell_type": "code",
   "execution_count": 10,
   "metadata": {
    "colab": {},
    "colab_type": "code",
    "id": "0t9_AW88XsRH"
   },
   "outputs": [],
   "source": [
    "train_numpy_dataset, label_train = read_image_dir_to_np_array(train_dir_name, tomato_class_list)"
   ]
  },
  {
   "cell_type": "markdown",
   "metadata": {
    "colab_type": "text",
    "id": "e48vCqrRXwNe"
   },
   "source": [
    "# Convert array of image into numpy array\n",
    "the dimension of the array is as follows: (m, h, w, 3) where m is the number of image, h is the height of each image, w is the width of the image, and 3 is for the number of color channel(RGB)"
   ]
  },
  {
   "cell_type": "code",
   "execution_count": 11,
   "metadata": {
    "colab": {},
    "colab_type": "code",
    "id": "Y0r94kHwX0Fr"
   },
   "outputs": [
    {
     "data": {
      "text/plain": [
       "(18345, 100, 100, 3)"
      ]
     },
     "execution_count": 11,
     "metadata": {},
     "output_type": "execute_result"
    }
   ],
   "source": [
    "train_numpy_dataset = np.array(train_numpy_dataset)\n",
    "train_numpy_dataset.shape"
   ]
  },
  {
   "cell_type": "code",
   "execution_count": 12,
   "metadata": {
    "colab": {},
    "colab_type": "code",
    "id": "lxOxlttgX0uv"
   },
   "outputs": [],
   "source": [
    "# Create set of unique labels and make a dictionary that maps the label to unique integer number\n",
    "label_unique = list(set(label_train))\n",
    "label_dict = dict((label, index) for index, label in enumerate(label_unique))\n",
    "label_df = pd.DataFrame(label_dict.items(), columns=['Tomato Health', 'Health Label'])\n",
    "label_df.to_csv(\"category_to_num.csv\")"
   ]
  },
  {
   "cell_type": "code",
   "execution_count": 13,
   "metadata": {
    "colab": {},
    "colab_type": "code",
    "id": "3IV5WLWqX4Us"
   },
   "outputs": [
    {
     "data": {
      "text/plain": [
       "{'Tomato___Tomato_mosaic_virus': 0,\n",
       " 'Tomato___Bacterial_spot': 1,\n",
       " 'Tomato___Early_blight': 2,\n",
       " 'Tomato___Spider_mites Two-spotted_spider_mite': 3,\n",
       " 'Tomato___Septoria_leaf_spot': 4,\n",
       " 'Tomato___Late_blight': 5,\n",
       " 'Tomato___Leaf_Mold': 6,\n",
       " 'Tomato___healthy': 7,\n",
       " 'Tomato___Tomato_Yellow_Leaf_Curl_Virus': 8,\n",
       " 'Tomato___Target_Spot': 9}"
      ]
     },
     "execution_count": 13,
     "metadata": {},
     "output_type": "execute_result"
    }
   ],
   "source": [
    "label_dict"
   ]
  },
  {
   "cell_type": "code",
   "execution_count": 14,
   "metadata": {
    "colab": {},
    "colab_type": "code",
    "id": "cfHbKB_bX4wB"
   },
   "outputs": [
    {
     "data": {
      "image/png": "[encoded data removed]",
      "text/plain": [
       "<PIL.Image.Image image mode=RGB size=100x100 at 0x286DE24C6C8>"
      ]
     },
     "execution_count": 14,
     "metadata": {},
     "output_type": "execute_result"
    }
   ],
   "source": [
    "# label_train\n",
    "Image.fromarray(train_numpy_dataset[1])"
   ]
  },
  {
   "cell_type": "code",
   "execution_count": 15,
   "metadata": {
    "colab": {},
    "colab_type": "code",
    "id": "Ll47anfTX7FE"
   },
   "outputs": [
    {
     "data": {
      "text/plain": [
       "array([1, 1, 1, ..., 8, 8, 8])"
      ]
     },
     "execution_count": 15,
     "metadata": {},
     "output_type": "execute_result"
    }
   ],
   "source": [
    "# map train label to dictionary value\n",
    "train_numpy_label = np.array([label_dict[key] for key in label_train])\n",
    "train_numpy_label"
   ]
  },
  {
   "cell_type": "code",
   "execution_count": 16,
   "metadata": {
    "colab": {},
    "colab_type": "code",
    "id": "__qpEk4TX8-v"
   },
   "outputs": [
    {
     "data": {
      "text/plain": [
       "(18345,)"
      ]
     },
     "execution_count": 16,
     "metadata": {},
     "output_type": "execute_result"
    }
   ],
   "source": [
    "train_numpy_label.shape"
   ]
  },
  {
   "cell_type": "markdown",
   "metadata": {
    "colab_type": "text",
    "id": "O3K6GAM0YA_x"
   },
   "source": [
    "# Save train dataset and its label as npz file"
   ]
  },
  {
   "cell_type": "code",
   "execution_count": 17,
   "metadata": {
    "colab": {},
    "colab_type": "code",
    "id": "Sbu_au5OYDb8"
   },
   "outputs": [],
   "source": [
    "np.savez(\"tomato_leaves150.npz\", train_numpy_dataset, train_numpy_label)"
   ]
  },
  {
   "cell_type": "markdown",
   "metadata": {
    "colab_type": "text",
    "id": "e4pLDRSxYKlO"
   },
   "source": [
    "# Read validate dataset to np array"
   ]
  },
  {
   "cell_type": "code",
   "execution_count": 18,
   "metadata": {
    "colab": {},
    "colab_type": "code",
    "id": "8UWL1ipQYNO2"
   },
   "outputs": [],
   "source": [
    "valid_dir_name = 'New Plant Diseases Dataset(Augmented)\\\\New Plant Diseases Dataset(Augmented)\\\\valid\\\\'\n",
    "valid_numpy, label_valid = read_image_dir_to_np_array(valid_dir_name, tomato_class_list)\n",
    "valid_numpy_label = np.array([label_dict[key] for key in label_valid])"
   ]
  },
  {
   "cell_type": "code",
   "execution_count": 19,
   "metadata": {
    "colab": {},
    "colab_type": "code",
    "id": "p0bfdYDZYPMW"
   },
   "outputs": [
    {
     "data": {
      "text/plain": [
       "(4585, 100, 100, 3)"
      ]
     },
     "execution_count": 19,
     "metadata": {},
     "output_type": "execute_result"
    }
   ],
   "source": [
    "# Convert list of validation image matrix into np array\n",
    "valid_numpy = np.array(valid_numpy)\n",
    "valid_numpy.shape"
   ]
  },
  {
   "cell_type": "code",
   "execution_count": 20,
   "metadata": {
    "colab": {},
    "colab_type": "code",
    "id": "3iBCTgb0Yitz"
   },
   "outputs": [],
   "source": [
    "np.savez(\"tomato_leaves_test100.npz\", valid_numpy, valid_numpy_label)"
   ]
  },
  {
   "cell_type": "code",
   "execution_count": 21,
   "metadata": {
    "colab": {},
    "colab_type": "code",
    "id": "QME0Gq-hYmeb"
   },
   "outputs": [
    {
     "data": {
      "text/plain": [
       "(4585,)"
      ]
     },
     "execution_count": 21,
     "metadata": {},
     "output_type": "execute_result"
    }
   ],
   "source": [
    "valid_numpy_label.shape"
   ]
  },
  {
   "cell_type": "markdown",
   "metadata": {},
   "source": [
    "## Modelling"
   ]
  },
  {
   "cell_type": "code",
   "execution_count": 22,
   "metadata": {
    "scrolled": false
   },
   "outputs": [],
   "source": [
    "npz_train = np.load('tomato_leaves150.npz')"
   ]
  },
  {
   "cell_type": "code",
   "execution_count": 23,
   "metadata": {},
   "outputs": [
    {
     "data": {
      "text/plain": [
       "(18345,)"
      ]
     },
     "execution_count": 23,
     "metadata": {},
     "output_type": "execute_result"
    }
   ],
   "source": [
    "x_train = npz_train['arr_0']\n",
    "y_train = npz_train['arr_1']\n",
    "y_train.shape"
   ]
  },
  {
   "cell_type": "code",
   "execution_count": 24,
   "metadata": {},
   "outputs": [],
   "source": [
    "# shuffle training data\n",
    "index_shuffle = np.random.permutation(len(x_train))\n",
    "x_train = x_train[index_shuffle]\n",
    "y_train = y_train[index_shuffle]"
   ]
  },
  {
   "cell_type": "code",
   "execution_count": 25,
   "metadata": {},
   "outputs": [],
   "source": [
    "npz_test = np.load('tomato_leaves_test100.npz')\n",
    "x_test = npz_test['arr_0']\n",
    "y_test = npz_test['arr_1']"
   ]
  },
  {
   "cell_type": "code",
   "execution_count": 26,
   "metadata": {},
   "outputs": [],
   "source": [
    "# shuffle test data\n",
    "index_shuffle = np.random.permutation(len(x_test))\n",
    "x_test = x_test[index_shuffle]\n",
    "y_test = y_test[index_shuffle]"
   ]
  },
  {
   "cell_type": "code",
   "execution_count": 27,
   "metadata": {},
   "outputs": [
    {
     "data": {
      "text/plain": [
       "array([9, 4, 7, ..., 5, 2, 1])"
      ]
     },
     "execution_count": 27,
     "metadata": {},
     "output_type": "execute_result"
    }
   ],
   "source": [
    "y_test"
   ]
  },
  {
   "cell_type": "code",
   "execution_count": 28,
   "metadata": {},
   "outputs": [
    {
     "data": {
      "text/plain": [
       "<matplotlib.image.AxesImage at 0x286e12e49c8>"
      ]
     },
     "execution_count": 28,
     "metadata": {},
     "output_type": "execute_result"
    },
    {
     "data": {
      "image/png": "[encoded data removed]",
      "text/plain": [
       "<Figure size 432x288 with 1 Axes>"
      ]
     },
     "metadata": {
      "needs_background": "light"
     },
     "output_type": "display_data"
    }
   ],
   "source": [
    "plt.imshow(x_train[20])"
   ]
  },
  {
   "cell_type": "code",
   "execution_count": 29,
   "metadata": {},
   "outputs": [
    {
     "data": {
      "text/plain": [
       "<matplotlib.image.AxesImage at 0x286a92e0988>"
      ]
     },
     "execution_count": 29,
     "metadata": {},
     "output_type": "execute_result"
    },
    {
     "data": {
      "image/png": "[encoded data removed]",
      "text/plain": [
       "<Figure size 432x288 with 1 Axes>"
      ]
     },
     "metadata": {
      "needs_background": "light"
     },
     "output_type": "display_data"
    }
   ],
   "source": [
    "plt.imshow(x_test[20])"
   ]
  },
  {
   "cell_type": "code",
   "execution_count": 30,
   "metadata": {},
   "outputs": [],
   "source": [
    "x_train_norm = x_train / 255.0\n",
    "x_test_norm = x_test / 255.0"
   ]
  },
  {
   "cell_type": "markdown",
   "metadata": {},
   "source": [
    "## Build a Neural Network"
   ]
  },
  {
   "cell_type": "code",
   "execution_count": 31,
   "metadata": {},
   "outputs": [],
   "source": [
    "# define plotting loss function\n",
    "\n",
    "def plot_curve(epochs, hist, list_of_metrics):\n",
    "  \"\"\"Plot a curve one or more classification metrics vs. epoch.\"\"\"\n",
    "\n",
    "  plt.figure()\n",
    "  plt.xlabel(\"Epoch\")\n",
    "  plt.ylabel(\"Value\")\n",
    "\n",
    "  for m in list_of_metrics:\n",
    "    x = hist[m]\n",
    "    plt.plot(epochs[1:], x[1:], label=m)\n",
    "\n",
    "  plt.legend()\n",
    "  plt.show()"
   ]
  },
  {
   "cell_type": "code",
   "execution_count": 32,
   "metadata": {},
   "outputs": [],
   "source": [
    "# define deep neural network model\n",
    "def create_model(learning_rate,neurons_number=270,regularizer=0.15,dropout_rate=0.4):\n",
    "  \"\"\"Create and compile deep neural net model\"\"\"\n",
    "  model = tf.keras.models.Sequential()\n",
    "\n",
    "  # Add the layer containing the feature columns to the model.\n",
    "  model.add(tf.keras.layers.Flatten(input_shape=(100, 100, 3)))\n",
    "\n",
    "  # Define the first hidden layer\n",
    "  model.add(tf.keras.layers.Dense(units=neurons_number,\n",
    "                                  activation='relu',\n",
    "                                  kernel_regularizer=tf.keras.regularizers.l2(regularizer),\n",
    "                                  name='Hidden1'))\n",
    "  \n",
    "  # Define a dropout regularization layer. \n",
    "  model.add(tf.keras.layers.Dropout(rate=dropout_rate))\n",
    "\n",
    "  # Define the output layer\n",
    "  model.add(tf.keras.layers.Dense(units=10,\n",
    "                                  activation='softmax',\n",
    "                                  name='Output'))\n",
    "  \n",
    "  model.compile(optimizer=tf.keras.optimizers.Adam(lr=learning_rate),\n",
    "                loss=\"sparse_categorical_crossentropy\",\n",
    "                metrics=['accuracy'])\n",
    "  \n",
    "  return model"
   ]
  },
  {
   "cell_type": "code",
   "execution_count": 33,
   "metadata": {},
   "outputs": [],
   "source": [
    "def train_model(model, train_features, train_label, epochs,\n",
    "                batch_size=None, validation_split=0.05):\n",
    "  \"\"\"Train the model by feeding it data.\"\"\"\n",
    "\n",
    "  history = model.fit(x=train_features, y=train_label, batch_size=batch_size,\n",
    "                      epochs=epochs, shuffle=True,\n",
    "                      validation_split=validation_split)\n",
    "  \n",
    "  # The list of epochs of the model\n",
    "  epochs = history.epoch\n",
    "\n",
    "  # gather a snapshot of the model's mean squared error\n",
    "  # at each epoch.\n",
    "  hist = pd.DataFrame(history.history)\n",
    "\n",
    "  return epochs, hist"
   ]
  },
  {
   "cell_type": "code",
   "execution_count": 34,
   "metadata": {},
   "outputs": [
    {
     "name": "stdout",
     "output_type": "stream",
     "text": [
      "Train on 11007 samples, validate on 7338 samples\n",
      "Epoch 1/70\n",
      "11007/11007 [==============================] - 18s 2ms/sample - loss: 79.1646 - accuracy: 0.1902 - val_loss: 75.4838 - val_accuracy: 0.3367\n",
      "Epoch 2/70\n",
      "11007/11007 [==============================] - 16s 1ms/sample - loss: 72.2025 - accuracy: 0.2928 - val_loss: 68.8167 - val_accuracy: 0.4116\n",
      "Epoch 3/70\n",
      "11007/11007 [==============================] - 15s 1ms/sample - loss: 65.8552 - accuracy: 0.3598 - val_loss: 62.7825 - val_accuracy: 0.4374\n",
      "Epoch 4/70\n",
      "11007/11007 [==============================] - 16s 1ms/sample - loss: 60.1131 - accuracy: 0.3853 - val_loss: 57.3185 - val_accuracy: 0.4550\n",
      "Epoch 5/70\n",
      "11007/11007 [==============================] - 16s 1ms/sample - loss: 54.8898 - accuracy: 0.4241 - val_loss: 52.3775 - val_accuracy: 0.4357\n",
      "Epoch 6/70\n",
      "11007/11007 [==============================] - 15s 1ms/sample - loss: 50.1454 - accuracy: 0.4410 - val_loss: 47.8385 - val_accuracy: 0.4975\n",
      "Epoch 7/70\n",
      "11007/11007 [==============================] - 15s 1ms/sample - loss: 45.8262 - accuracy: 0.4559 - val_loss: 43.7091 - val_accuracy: 0.5228\n",
      "Epoch 8/70\n",
      "11007/11007 [==============================] - 14s 1ms/sample - loss: 41.8807 - accuracy: 0.4783 - val_loss: 39.9521 - val_accuracy: 0.5279\n",
      "Epoch 9/70\n",
      "11007/11007 [==============================] - 14s 1ms/sample - loss: 38.2851 - accuracy: 0.4811 - val_loss: 36.5210 - val_accuracy: 0.5225\n",
      "Epoch 10/70\n",
      "11007/11007 [==============================] - 14s 1ms/sample - loss: 35.0093 - accuracy: 0.4943 - val_loss: 33.4048 - val_accuracy: 0.5447\n",
      "Epoch 11/70\n",
      "11007/11007 [==============================] - 15s 1ms/sample - loss: 32.0265 - accuracy: 0.4993 - val_loss: 30.5524 - val_accuracy: 0.5579\n",
      "Epoch 12/70\n",
      "11007/11007 [==============================] - 14s 1ms/sample - loss: 29.2983 - accuracy: 0.5114 - val_loss: 27.9643 - val_accuracy: 0.5507\n",
      "Epoch 13/70\n",
      "11007/11007 [==============================] - 14s 1ms/sample - loss: 26.8274 - accuracy: 0.5081 - val_loss: 25.5961 - val_accuracy: 0.5511\n",
      "Epoch 14/70\n",
      "11007/11007 [==============================] - 14s 1ms/sample - loss: 24.5601 - accuracy: 0.5210 - val_loss: 23.4493 - val_accuracy: 0.5604\n",
      "Epoch 15/70\n",
      "11007/11007 [==============================] - 15s 1ms/sample - loss: 22.5012 - accuracy: 0.5336 - val_loss: 21.5011 - val_accuracy: 0.5474\n",
      "Epoch 16/70\n",
      "11007/11007 [==============================] - 14s 1ms/sample - loss: 20.6387 - accuracy: 0.5376 - val_loss: 19.7199 - val_accuracy: 0.5702\n",
      "Epoch 17/70\n",
      "11007/11007 [==============================] - 14s 1ms/sample - loss: 18.9313 - accuracy: 0.5354 - val_loss: 18.0881 - val_accuracy: 0.5664\n",
      "Epoch 18/70\n",
      "11007/11007 [==============================] - 19s 2ms/sample - loss: 17.3883 - accuracy: 0.5392 - val_loss: 16.6076 - val_accuracy: 0.5848\n",
      "Epoch 19/70\n",
      "11007/11007 [==============================] - 18s 2ms/sample - loss: 15.9776 - accuracy: 0.5397 - val_loss: 15.2759 - val_accuracy: 0.5835\n",
      "Epoch 20/70\n",
      "11007/11007 [==============================] - 17s 2ms/sample - loss: 14.7007 - accuracy: 0.5489 - val_loss: 14.0689 - val_accuracy: 0.5690\n",
      "Epoch 21/70\n",
      "11007/11007 [==============================] - 16s 1ms/sample - loss: 13.5371 - accuracy: 0.5518 - val_loss: 12.9497 - val_accuracy: 0.5901\n",
      "Epoch 22/70\n",
      "11007/11007 [==============================] - 16s 1ms/sample - loss: 12.4766 - accuracy: 0.5527 - val_loss: 11.9563 - val_accuracy: 0.5780\n",
      "Epoch 23/70\n",
      "11007/11007 [==============================] - 16s 1ms/sample - loss: 11.5181 - accuracy: 0.5567 - val_loss: 11.0317 - val_accuracy: 0.5848\n",
      "Epoch 24/70\n",
      "11007/11007 [==============================] - 17s 2ms/sample - loss: 10.6315 - accuracy: 0.5648 - val_loss: 10.1966 - val_accuracy: 0.5852\n",
      "Epoch 25/70\n",
      "11007/11007 [==============================] - 17s 2ms/sample - loss: 9.8453 - accuracy: 0.5635 - val_loss: 9.4432 - val_accuracy: 0.6030\n",
      "Epoch 26/70\n",
      "11007/11007 [==============================] - 15s 1ms/sample - loss: 9.1163 - accuracy: 0.5729 - val_loss: 8.7555 - val_accuracy: 0.5908\n",
      "Epoch 27/70\n",
      "11007/11007 [==============================] - 15s 1ms/sample - loss: 8.4582 - accuracy: 0.5710 - val_loss: 8.1360 - val_accuracy: 0.5962\n",
      "Epoch 28/70\n",
      "11007/11007 [==============================] - 15s 1ms/sample - loss: 7.8601 - accuracy: 0.5753 - val_loss: 7.5605 - val_accuracy: 0.5921\n",
      "Epoch 29/70\n",
      "11007/11007 [==============================] - 13s 1ms/sample - loss: 7.3238 - accuracy: 0.5688 - val_loss: 7.0509 - val_accuracy: 0.5819\n",
      "Epoch 30/70\n",
      "11007/11007 [==============================] - 13s 1ms/sample - loss: 6.8207 - accuracy: 0.5748 - val_loss: 6.5683 - val_accuracy: 0.6018\n",
      "Epoch 31/70\n",
      "11007/11007 [==============================] - 14s 1ms/sample - loss: 6.3680 - accuracy: 0.5762 - val_loss: 6.1376 - val_accuracy: 0.6019\n",
      "Epoch 32/70\n",
      "11007/11007 [==============================] - 13s 1ms/sample - loss: 5.9533 - accuracy: 0.5846 - val_loss: 5.7718 - val_accuracy: 0.5809\n",
      "Epoch 33/70\n",
      "11007/11007 [==============================] - 13s 1ms/sample - loss: 5.5883 - accuracy: 0.5817 - val_loss: 5.3977 - val_accuracy: 0.5950\n",
      "Epoch 34/70\n",
      "11007/11007 [==============================] - 13s 1ms/sample - loss: 5.2339 - accuracy: 0.5898 - val_loss: 5.0514 - val_accuracy: 0.6117\n",
      "Epoch 35/70\n",
      "11007/11007 [==============================] - 13s 1ms/sample - loss: 4.9151 - accuracy: 0.5976 - val_loss: 4.7568 - val_accuracy: 0.6048\n",
      "Epoch 36/70\n",
      "11007/11007 [==============================] - 14s 1ms/sample - loss: 4.6370 - accuracy: 0.5862 - val_loss: 4.4865 - val_accuracy: 0.6145\n",
      "Epoch 37/70\n",
      "11007/11007 [==============================] - 13s 1ms/sample - loss: 4.3782 - accuracy: 0.5902 - val_loss: 4.2355 - val_accuracy: 0.6092\n",
      "Epoch 38/70\n",
      "11007/11007 [==============================] - 13s 1ms/sample - loss: 4.1383 - accuracy: 0.5912 - val_loss: 4.0288 - val_accuracy: 0.5988\n",
      "Epoch 39/70\n",
      "11007/11007 [==============================] - 13s 1ms/sample - loss: 3.9235 - accuracy: 0.5930 - val_loss: 3.8001 - val_accuracy: 0.6102\n",
      "Epoch 40/70\n",
      "11007/11007 [==============================] - 14s 1ms/sample - loss: 3.7196 - accuracy: 0.5904 - val_loss: 3.6263 - val_accuracy: 0.6013\n",
      "Epoch 41/70\n",
      "11007/11007 [==============================] - 13s 1ms/sample - loss: 3.5391 - accuracy: 0.5954 - val_loss: 3.4544 - val_accuracy: 0.6090\n",
      "Epoch 42/70\n",
      "11007/11007 [==============================] - 14s 1ms/sample - loss: 3.3777 - accuracy: 0.5935 - val_loss: 3.2984 - val_accuracy: 0.5869\n",
      "Epoch 43/70\n",
      "11007/11007 [==============================] - 13s 1ms/sample - loss: 3.2196 - accuracy: 0.6006 - val_loss: 3.1384 - val_accuracy: 0.6034\n",
      "Epoch 44/70\n",
      "11007/11007 [==============================] - 14s 1ms/sample - loss: 3.0809 - accuracy: 0.5934 - val_loss: 3.0193 - val_accuracy: 0.6150\n",
      "Epoch 45/70\n",
      "11007/11007 [==============================] - 14s 1ms/sample - loss: 2.9478 - accuracy: 0.5969 - val_loss: 2.8813 - val_accuracy: 0.6135\n",
      "Epoch 46/70\n",
      "11007/11007 [==============================] - 13s 1ms/sample - loss: 2.8348 - accuracy: 0.5987 - val_loss: 2.7791 - val_accuracy: 0.5988\n",
      "Epoch 47/70\n",
      "11007/11007 [==============================] - 13s 1ms/sample - loss: 2.7212 - accuracy: 0.6049 - val_loss: 2.6786 - val_accuracy: 0.6070\n",
      "Epoch 48/70\n",
      "11007/11007 [==============================] - 14s 1ms/sample - loss: 2.6221 - accuracy: 0.6030 - val_loss: 2.5711 - val_accuracy: 0.6149\n",
      "Epoch 49/70\n",
      "11007/11007 [==============================] - 14s 1ms/sample - loss: 2.5304 - accuracy: 0.6077 - val_loss: 2.4843 - val_accuracy: 0.6301\n",
      "Epoch 50/70\n",
      "11007/11007 [==============================] - 13s 1ms/sample - loss: 2.4453 - accuracy: 0.6061 - val_loss: 2.4008 - val_accuracy: 0.6217\n",
      "Epoch 51/70\n",
      "11007/11007 [==============================] - 13s 1ms/sample - loss: 2.3653 - accuracy: 0.6119 - val_loss: 2.3188 - val_accuracy: 0.6252\n",
      "Epoch 52/70\n",
      "11007/11007 [==============================] - 13s 1ms/sample - loss: 2.2983 - accuracy: 0.6023 - val_loss: 2.2628 - val_accuracy: 0.6075\n",
      "Epoch 53/70\n",
      "11007/11007 [==============================] - 14s 1ms/sample - loss: 2.2373 - accuracy: 0.6027 - val_loss: 2.2159 - val_accuracy: 0.6032\n",
      "Epoch 54/70\n",
      "11007/11007 [==============================] - 14s 1ms/sample - loss: 2.1789 - accuracy: 0.5995 - val_loss: 2.1303 - val_accuracy: 0.6255\n",
      "Epoch 55/70\n"
     ]
    },
    {
     "name": "stdout",
     "output_type": "stream",
     "text": [
      "11007/11007 [==============================] - 12s 1ms/sample - loss: 2.1175 - accuracy: 0.6057 - val_loss: 2.1283 - val_accuracy: 0.5872\n",
      "Epoch 56/70\n",
      "11007/11007 [==============================] - 14s 1ms/sample - loss: 2.0645 - accuracy: 0.6053 - val_loss: 2.0299 - val_accuracy: 0.6197\n",
      "Epoch 57/70\n",
      "11007/11007 [==============================] - 17s 2ms/sample - loss: 2.0151 - accuracy: 0.6072 - val_loss: 1.9867 - val_accuracy: 0.6308\n",
      "Epoch 58/70\n",
      "11007/11007 [==============================] - 13s 1ms/sample - loss: 1.9693 - accuracy: 0.6152 - val_loss: 1.9397 - val_accuracy: 0.6300\n",
      "Epoch 59/70\n",
      "11007/11007 [==============================] - 13s 1ms/sample - loss: 1.9354 - accuracy: 0.6087 - val_loss: 1.9383 - val_accuracy: 0.6030\n",
      "Epoch 60/70\n",
      "11007/11007 [==============================] - 13s 1ms/sample - loss: 1.8947 - accuracy: 0.6115 - val_loss: 1.8872 - val_accuracy: 0.6058\n",
      "Epoch 61/70\n",
      "11007/11007 [==============================] - 13s 1ms/sample - loss: 1.8601 - accuracy: 0.6123 - val_loss: 1.8596 - val_accuracy: 0.6082\n",
      "Epoch 62/70\n",
      "11007/11007 [==============================] - 14s 1ms/sample - loss: 1.8331 - accuracy: 0.6171 - val_loss: 1.8246 - val_accuracy: 0.6201\n",
      "Epoch 63/70\n",
      "11007/11007 [==============================] - 12s 1ms/sample - loss: 1.7976 - accuracy: 0.6180 - val_loss: 1.7877 - val_accuracy: 0.6216\n",
      "Epoch 64/70\n",
      "11007/11007 [==============================] - 13s 1ms/sample - loss: 1.7695 - accuracy: 0.6189 - val_loss: 1.7704 - val_accuracy: 0.6096\n",
      "Epoch 65/70\n",
      "11007/11007 [==============================] - 13s 1ms/sample - loss: 1.7542 - accuracy: 0.6118 - val_loss: 1.7363 - val_accuracy: 0.6251\n",
      "Epoch 66/70\n",
      "11007/11007 [==============================] - 14s 1ms/sample - loss: 1.7291 - accuracy: 0.6142 - val_loss: 1.7187 - val_accuracy: 0.6081\n",
      "Epoch 67/70\n",
      "11007/11007 [==============================] - 13s 1ms/sample - loss: 1.7051 - accuracy: 0.6145 - val_loss: 1.7038 - val_accuracy: 0.6124\n",
      "Epoch 68/70\n",
      "11007/11007 [==============================] - 13s 1ms/sample - loss: 1.6804 - accuracy: 0.6190 - val_loss: 1.6710 - val_accuracy: 0.6267\n",
      "Epoch 69/70\n",
      "11007/11007 [==============================] - 13s 1ms/sample - loss: 1.6674 - accuracy: 0.6142 - val_loss: 1.6669 - val_accuracy: 0.6252\n",
      "Epoch 70/70\n",
      "11007/11007 [==============================] - 13s 1ms/sample - loss: 1.6422 - accuracy: 0.6194 - val_loss: 1.6378 - val_accuracy: 0.6262\n"
     ]
    },
    {
     "data": {
      "image/png": "[encoded data removed]",
      "text/plain": [
       "<Figure size 432x288 with 1 Axes>"
      ]
     },
     "metadata": {
      "needs_background": "light"
     },
     "output_type": "display_data"
    }
   ],
   "source": [
    "# define the hyperparameters\n",
    "learning_rate = 0.000008\n",
    "epochs = 70\n",
    "batch_size = 150\n",
    "validation_split = 0.4\n",
    "\n",
    "\n",
    "# Established model's topography\n",
    "my_model = create_model(learning_rate)\n",
    "\n",
    "# Train the model on normalized training set\n",
    "epochs, hist = train_model(my_model, x_train_norm, y_train, epochs,\n",
    "                          batch_size, validation_split)\n",
    "\n",
    "# plot accuracy vs epochs of training\n",
    "list_of_metrics_to_plot = ['accuracy'] \n",
    "plot_curve(epochs, hist, list_of_metrics_to_plot)"
   ]
  },
  {
   "cell_type": "code",
   "execution_count": 35,
   "metadata": {},
   "outputs": [
    {
     "name": "stdout",
     "output_type": "stream",
     "text": [
      "4585/4585 [==============================] - 2s 521us/sample - loss: 1.6412 - accuracy: 0.6277\n"
     ]
    },
    {
     "data": {
      "text/plain": [
       "[1.6411519827993513, 0.627699]"
      ]
     },
     "execution_count": 35,
     "metadata": {},
     "output_type": "execute_result"
    }
   ],
   "source": [
    "my_model.evaluate(x=x_test_norm, y=y_test, batch_size=batch_size)"
   ]
  }
 ],
 "metadata": {
  "colab": {
   "authorship_tag": "ABX9TyO+Z+wDdtQFhRh1jojGBUXP",
   "include_colab_link": true,
   "name": "Tomato_Health_Condition_Classification.ipynb",
   "provenance": []
  },
  "kernelspec": {
   "display_name": "Python 3",
   "language": "python",
   "name": "python3"
  },
  "language_info": {
   "codemirror_mode": {
    "name": "ipython",
    "version": 3
   },
   "file_extension": ".py",
   "mimetype": "text/x-python",
   "name": "python",
   "nbconvert_exporter": "python",
   "pygments_lexer": "ipython3",
   "version": "3.7.4"
  }
 },
 "nbformat": 4,
 "nbformat_minor": 1
}
